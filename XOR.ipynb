{
 "cells": [
  {
   "cell_type": "code",
   "execution_count": 2,
   "id": "b3932324",
   "metadata": {},
   "outputs": [],
   "source": [
    "def cipher_encryption():\n",
    "    msg = input(\"Enter message: \")\n",
    "    key = input(\"Enter key: \")\n",
    "\n",
    "    encrypt_hex = \"\"\n",
    "    key_itr = 0\n",
    "    for i in range(len(msg)):\n",
    "        temp = ord(msg[i]) ^ ord(key[key_itr])\n",
    "        # zfill will pad a single letter hex with 0, to make it two letter pair\n",
    "        encrypt_hex += hex(temp)[2:].zfill(2)\n",
    "        key_itr += 1\n",
    "        if key_itr >= len(key):\n",
    "            # once all of the key's letters are used, repeat the key\n",
    "            key_itr = 0\n",
    "\n",
    "    print(\"Encrypted Text: {}\".format(encrypt_hex))"
   ]
  },
  {
   "cell_type": "code",
   "execution_count": 3,
   "id": "2c606475",
   "metadata": {},
   "outputs": [],
   "source": [
    "def cipher_decryption():\n",
    "    msg = input(\"Enter message: \")\n",
    "    key = input(\"Enter key: \")\n",
    "\n",
    "    hex_to_uni = \"\"\n",
    "    for i in range(0, len(msg), 2):\n",
    "        hex_to_uni += bytes.fromhex(msg[i:i+2]).decode('utf-8')\n",
    "\n",
    "    decryp_text = \"\"\n",
    "    key_itr = 0\n",
    "    for i in range(len(hex_to_uni)):\n",
    "        temp = ord(hex_to_uni[i]) ^ ord(key[key_itr])\n",
    "        # zfill will pad a single letter hex with 0, to make it two letter pair\n",
    "        decryp_text += chr(temp)\n",
    "        key_itr += 1\n",
    "        if key_itr >= len(key):\n",
    "            # once all of the key's letters are used, repeat the key\n",
    "            key_itr = 0\n",
    "\n",
    "    print(\"Decrypted Text: {}\".format(decryp_text))\n"
   ]
  },
  {
   "cell_type": "code",
   "execution_count": 9,
   "id": "c45006a0",
   "metadata": {},
   "outputs": [
    {
     "name": "stdout",
     "output_type": "stream",
     "text": [
      "1. Encryption\n",
      "2. Decryption\n",
      "Choose(1,2): 2\n",
      "---Decryption---\n",
      "Enter message: 55555f555c55\n",
      "Enter key: 10\n",
      "Decrypted Text: deneme\n"
     ]
    }
   ],
   "source": [
    "def main():\n",
    "    choice = int(input(\"1. Encryption\\n2. Decryption\\nChoose(1,2): \"))\n",
    "    if choice == 1:\n",
    "        print(\"---Encryption---\")\n",
    "        cipher_encryption()\n",
    "    elif choice == 2:\n",
    "        print(\"---Decryption---\")\n",
    "        cipher_decryption()\n",
    "    else:\n",
    "        print(\"Invalid Choice\")\n",
    "\n",
    "if __name__ == \"__main__\":\n",
    "    main()"
   ]
  },
  {
   "cell_type": "code",
   "execution_count": null,
   "id": "bd7f524d",
   "metadata": {},
   "outputs": [],
   "source": []
  }
 ],
 "metadata": {
  "kernelspec": {
   "display_name": "Python 3 (ipykernel)",
   "language": "python",
   "name": "python3"
  },
  "language_info": {
   "codemirror_mode": {
    "name": "ipython",
    "version": 3
   },
   "file_extension": ".py",
   "mimetype": "text/x-python",
   "name": "python",
   "nbconvert_exporter": "python",
   "pygments_lexer": "ipython3",
   "version": "3.9.7"
  }
 },
 "nbformat": 4,
 "nbformat_minor": 5
}
