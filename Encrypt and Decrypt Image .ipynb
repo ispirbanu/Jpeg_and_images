{
 "cells": [
  {
   "cell_type": "code",
   "execution_count": 10,
   "id": "cc4f70c7",
   "metadata": {},
   "outputs": [
    {
     "name": "stdout",
     "output_type": "stream",
     "text": [
      "Original Data: 1281\n",
      "Key: 27\n",
      "After Encryption: 1306\n",
      "After Decryption: 1281\n"
     ]
    }
   ],
   "source": [
    "# Değerleri atamak \n",
    "data = 1281\n",
    "key = 27\n",
    " \n",
    "# Görüntü değerleri\n",
    "print('Original Data:', data)\n",
    "print('Key:', key)\n",
    " \n",
    "# Encryption\n",
    "data = data ^ key\n",
    "print('After Encryption:', data)\n",
    " \n",
    "# Decryption\n",
    "data = data ^ key\n",
    "print('After Decryption:', data)"
   ]
  },
  {
   "cell_type": "code",
   "execution_count": 11,
   "id": "00ba5a9a",
   "metadata": {},
   "outputs": [
    {
     "name": "stdout",
     "output_type": "stream",
     "text": [
      "Enter path of Image : C:\\Users\\ispir\\veri sıkıstırma- jpeg\\ara-renkler.png\n",
      "Enter Key for encryption of Image : 34\n",
      "The path of file :  C:\\Users\\ispir\\veri sıkıstırma- jpeg\\ara-renkler.png\n",
      "Key for encryption :  34\n",
      "Encryption Done...\n"
     ]
    }
   ],
   "source": [
    "# Encryption işlemi\n",
    "\n",
    "try:\n",
    "    # Görüntünün dosya konumu\n",
    "    path = input(r'Enter path of Image : ')\n",
    "     \n",
    "    # giriş olarak şifreleme anahtarı\n",
    "    key = int(input('Enter Key for encryption of Image : '))\n",
    "     \n",
    "    # görüntü dosyasının yazdırma yolu ve şifreleme anahtarı kullanımı\n",
    "    print('The path of file : ', path)\n",
    "    print('Key for encryption : ', key)\n",
    "     \n",
    "    # dosyayı okuma yoluyla açmak\n",
    "    fin = open(path, 'rb')\n",
    "     \n",
    "    # görüntü verilerini değişkene kopyalamak -> \"image\"\n",
    "    image = fin.read()\n",
    "    fin.close()\n",
    "     \n",
    "    # görüntüyü bayt dizisine dönüştürmek\n",
    "    # sayısal veriler üzerinde şifreleme gerçekleştirimi\n",
    "    image = bytearray(image)\n",
    " \n",
    "    # byteray'in her değerinde XOR işlemi gerçekleştirme\n",
    "    for index, values in enumerate(image):\n",
    "        image[index] = values ^ key\n",
    " \n",
    "    # dosyayı yazdırma amaçlı açmak\n",
    "    fin = open(path, 'wb')\n",
    "     \n",
    "    # görüntüye şifreli veri yazma\n",
    "    fin.write(image)\n",
    "    fin.close()\n",
    "    print('Encryption Done...')\n",
    " \n",
    "     \n",
    "except Exception:\n",
    "    print('Error caught : ', Exception.__name__)\n",
    "    \n",
    "\n"
   ]
  },
  {
   "cell_type": "code",
   "execution_count": 12,
   "id": "937407b7",
   "metadata": {},
   "outputs": [
    {
     "name": "stdout",
     "output_type": "stream",
     "text": [
      "Enter path of Image : C:\\Users\\ispir\\veri sıkıstırma- jpeg\\ara-renkler.png\n",
      "Enter Key for encryption of Image : 34\n",
      "The path of file :  C:\\Users\\ispir\\veri sıkıstırma- jpeg\\ara-renkler.png\n",
      "Note : Encryption key and Decryption key must be same.\n",
      "Key for Decryption :  34\n",
      "Decryption Done...\n"
     ]
    }
   ],
   "source": [
    "# Decryption işlemi\n",
    "\n",
    "try:\n",
    "    # görüntünün yolunu girdi olarak al\n",
    "    path = input(r'Enter path of Image : ')\n",
    "     \n",
    "    # şifre çözme anahtarını girdi olarak al\n",
    "    key = int(input('Enter Key for encryption of Image : '))\n",
    "     \n",
    "    # kullandığımız resim dosyasının ve şifre çözme anahtarının yazdırma yolu\n",
    "    print('The path of file : ', path)\n",
    "    print('Note : Encryption key and Decryption key must be same.')\n",
    "    print('Key for Decryption : ', key)\n",
    "     \n",
    "    # dosyayı okuma amacıyla aç\n",
    "    fin = open(path, 'rb')\n",
    "     \n",
    "    # görüntü verilerini \"image\" değişkeninde depolamak\n",
    "    image = fin.read()\n",
    "    fin.close()\n",
    "     \n",
    "    # sayısal veriler üzerinde şifre çözme gerçekleştirmek için görüntüyü bayt dizisine dönüştürme\n",
    "    image = bytearray(image)\n",
    " \n",
    "    # byteray'in her değerinde XOR işlemi gerçekleştirme\n",
    "    for index, values in enumerate(image):\n",
    "        image[index] = values ^ key\n",
    " \n",
    "    # yazma amaçlı dosya açma\n",
    "    fin = open(path, 'wb')\n",
    "     \n",
    "    # şifre çözme verilerini görüntüye yazma\n",
    "    fin.write(image)\n",
    "    fin.close()\n",
    "    print('Decryption Done...')\n",
    " \n",
    " \n",
    "except Exception:\n",
    "    print('Error caught : ', Exception.__name__)"
   ]
  },
  {
   "cell_type": "code",
   "execution_count": null,
   "id": "5f1025c6",
   "metadata": {},
   "outputs": [],
   "source": []
  }
 ],
 "metadata": {
  "kernelspec": {
   "display_name": "Python 3 (ipykernel)",
   "language": "python",
   "name": "python3"
  },
  "language_info": {
   "codemirror_mode": {
    "name": "ipython",
    "version": 3
   },
   "file_extension": ".py",
   "mimetype": "text/x-python",
   "name": "python",
   "nbconvert_exporter": "python",
   "pygments_lexer": "ipython3",
   "version": "3.9.7"
  }
 },
 "nbformat": 4,
 "nbformat_minor": 5
}
